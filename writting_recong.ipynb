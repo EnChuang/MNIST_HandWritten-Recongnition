{
 "cells": [
  {
   "cell_type": "code",
   "execution_count": null,
   "metadata": {},
   "outputs": [],
   "source": [
    "import numpy as np\n",
    "import tensorflow as tf\n",
    "from tensorflow.keras.datasets import mnist\n",
    "import matplotlib.pyplot as plt\n",
    "from sklearn.model_selection import train_test_split\n",
    "\n",
    "# Loading MNIST data\n",
    "(train_images, train_labels), (test_images, test_labels) = mnist.load_data()\n",
    "\n",
    "# Split training/validation set\n",
    "train_images, val_images, train_labels, val_labels = train_test_split(\n",
    "    train_images, train_labels, test_size=10000, random_state=42\n",
    ")\n"
   ]
  },
  {
   "cell_type": "code",
   "execution_count": null,
   "metadata": {},
   "outputs": [],
   "source": [
    "# Normalization\n",
    "train_images = train_images / 255.0\n",
    "val_images = val_images / 255.0\n",
    "test_images = test_images / 255.0\n",
    "\n",
    "# add channel dims (28, 28, 1)\n",
    "train_images = np.expand_dims(train_images, -1)\n",
    "val_images = np.expand_dims(val_images, -1)\n",
    "test_images = np.expand_dims(test_images, -1)\n",
    "\n",
    "# one-hot encode cuz only recongnize 0~9\n",
    "train_labels = tf.one_hot(train_labels, 10)\n",
    "val_labels = tf.one_hot(val_labels, 10)\n",
    "test_labels = tf.one_hot(test_labels, 10)\n"
   ]
  },
  {
   "cell_type": "code",
   "execution_count": null,
   "metadata": {},
   "outputs": [],
   "source": [
    "from tensorflow.keras.models import Sequential\n",
    "from tensorflow.keras.layers import Conv2D, MaxPooling2D, Dropout, Flatten, Dense\n",
    "\n",
    "model = Sequential([\n",
    "    Conv2D(32, kernel_size=(3, 3), activation='relu', padding='same', input_shape=(28, 28, 1)),\n",
    "    MaxPooling2D(pool_size=(2, 2)),\n",
    "    Dropout(0.25),\n",
    "    Conv2D(64, kernel_size=(3, 3), activation='relu'),\n",
    "    MaxPooling2D(pool_size=(2, 2)),\n",
    "    Dropout(0.25),\n",
    "    Flatten(),\n",
    "    Dense(128, activation='relu'),\n",
    "    Dropout(0.5),\n",
    "    Dense(10, activation='softmax')\n",
    "])\n"
   ]
  },
  {
   "cell_type": "code",
   "execution_count": null,
   "metadata": {},
   "outputs": [],
   "source": [
    "#Compile your model\n",
    "model.compile(optimizer='adam',\n",
    "              loss='categorical_crossentropy',\n",
    "              metrics=['accuracy'])\n",
    "# Train the model and add validation data\n",
    "history = model.fit(train_images, train_labels,\n",
    "                    epochs=50,\n",
    "                    batch_size=32,\n",
    "                    validation_data=(val_images, val_labels))\n"
   ]
  },
  {
   "cell_type": "code",
   "execution_count": null,
   "metadata": {},
   "outputs": [],
   "source": [
    "model.save('mnist_cnn_model.keras')\n",
    "\n",
    "# Reload model\n",
    "model = tf.keras.models.load_model('mnist_cnn_model.keras')\n"
   ]
  },
  {
   "cell_type": "code",
   "execution_count": null,
   "metadata": {},
   "outputs": [],
   "source": [
    "predictions = model.predict(test_images)\n",
    "predicted_labels = np.argmax(predictions, axis=1)\n",
    "actual_labels = np.argmax(test_labels.numpy(), axis=1)\n",
    "\n",
    "# Test predict result\n",
    "for i in range(10):\n",
    "    print(f\"Actual: {actual_labels[i]}, Predicted: {predicted_labels[i]}\")\n"
   ]
  },
  {
   "cell_type": "code",
   "execution_count": null,
   "metadata": {},
   "outputs": [],
   "source": [
    "#Show the images of the test result\n",
    "for i in range(10):\n",
    "    plt.imshow(test_images[i].squeeze(), cmap='gray')\n",
    "    plt.title(f\"Actual: {actual_labels[i]}, Predicted: {predicted_labels[i]}\")\n",
    "    plt.axis('off')\n",
    "    plt.show()\n"
   ]
  },
  {
   "cell_type": "code",
   "execution_count": null,
   "metadata": {},
   "outputs": [],
   "source": [
    "#Create a writting board to write and recognize\n",
    "import tkinter as tk\n",
    "from PIL import Image, ImageDraw, ImageOps\n",
    "import numpy as np\n",
    "import tensorflow as tf\n",
    "\n",
    "# Load the model\n",
    "model = tf.keras.models.load_model('mnist_cnn_model.keras')\n",
    "\n",
    "class DigitRecognizerApp:\n",
    "    def __init__(self, master):\n",
    "        self.master = master\n",
    "        self.master.title(\"Handwritten recognition\")\n",
    "        self.canvas_width = 280\n",
    "        self.canvas_height = 280\n",
    "\n",
    "        self.canvas = tk.Canvas(master, width=self.canvas_width, height=self.canvas_height, bg='white')\n",
    "        self.canvas.pack()\n",
    "\n",
    "        self.image = Image.new(\"L\", (self.canvas_width, self.canvas_height), 255)\n",
    "        self.draw = ImageDraw.Draw(self.image)\n",
    "\n",
    "        self.canvas.bind(\"<B1-Motion>\", self.paint)\n",
    "        self.canvas.bind(\"<ButtonRelease-1>\", self.reset)\n",
    "\n",
    "        self.result_label = tk.Label(master, text=\"Predict Result：\", font=(\"Arial\", 16))\n",
    "        self.result_label.pack()\n",
    "\n",
    "        self.predict_button = tk.Button(master, text=\"Recognize\", command=self.predict_digit)\n",
    "        self.predict_button.pack(side=tk.LEFT, padx=10, pady=10)\n",
    "\n",
    "        self.clear_button = tk.Button(master, text=\"Clear\", command=self.clear_canvas)\n",
    "        self.clear_button.pack(side=tk.RIGHT, padx=10, pady=10)\n",
    "\n",
    "        self.last_x, self.last_y = None, None\n",
    "\n",
    "    def paint(self, event):\n",
    "        if self.last_x and self.last_y:\n",
    "            self.canvas.create_line(self.last_x, self.last_y, event.x, event.y,\n",
    "                                    width=12, fill='black', capstyle=tk.ROUND, smooth=tk.TRUE, splinesteps=36)\n",
    "            self.draw.line([self.last_x, self.last_y, event.x, event.y], fill=0, width=12)\n",
    "        self.last_x = event.x\n",
    "        self.last_y = event.y\n",
    "\n",
    "    def reset(self, event):\n",
    "        self.last_x, self.last_y = None, None\n",
    "\n",
    "    def clear_canvas(self):\n",
    "        self.canvas.delete(\"all\")\n",
    "        self.draw.rectangle([0, 0, self.canvas_width, self.canvas_height], fill=255)\n",
    "        self.result_label.config(text=\"Predict Result：\")\n",
    "\n",
    "    def predict_digit(self):\n",
    "        # Pre-process：rescale、reverse 、normalization\n",
    "        image = self.image.resize((28, 28))\n",
    "        image = ImageOps.invert(image)\n",
    "        img_array = np.array(image) / 255.0\n",
    "        img_array = img_array.reshape(1, 28, 28, 1)\n",
    "\n",
    "        # Prediction\n",
    "        prediction = model.predict(img_array)\n",
    "        digit = np.argmax(prediction)\n",
    "        confidence = np.max(prediction)\n",
    "\n",
    "        self.result_label.config(text=f\"Predict Result：{digit}（Confidence Value：{confidence:.2f}）\")\n",
    "\n",
    "if __name__ == '__main__':\n",
    "    root = tk.Tk()\n",
    "    app = DigitRecognizerApp(root)\n",
    "    root.mainloop()\n"
   ]
  }
 ],
 "metadata": {
  "kernelspec": {
   "display_name": "base",
   "language": "python",
   "name": "python3"
  },
  "language_info": {
   "codemirror_mode": {
    "name": "ipython",
    "version": 3
   },
   "file_extension": ".py",
   "mimetype": "text/x-python",
   "name": "python",
   "nbconvert_exporter": "python",
   "pygments_lexer": "ipython3",
   "version": "3.9.21"
  }
 },
 "nbformat": 4,
 "nbformat_minor": 2
}
